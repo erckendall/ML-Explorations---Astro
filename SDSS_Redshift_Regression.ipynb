{
 "cells": [
  {
   "cell_type": "markdown",
   "metadata": {},
   "source": [
    "<h1><center>IBM Machine Learning Professional Certificate</center></h1>\n",
    "<h2><center>Final Assignment - Course 2</center></h2>\n",
    "<h3><center>Emily Kendall</center></h3>\n"
   ]
  },
  {
   "cell_type": "code",
   "execution_count": 100,
   "metadata": {},
   "outputs": [],
   "source": [
    "import numpy as np\n",
    "import pandas as pd\n",
    "from astroquery.sdss import SDSS\n",
    "import seaborn as sns\n",
    "from tqdm import tqdm\n",
    "import matplotlib.pyplot as plt\n",
    "%matplotlib inline\n",
    "\n",
    "from sklearn.model_selection import KFold\n",
    "from sklearn.preprocessing import PolynomialFeatures, StandardScaler\n",
    "from sklearn.linear_model import LinearRegression, RidgeCV, LassoCV, ElasticNetCV\n",
    "from sklearn.pipeline import Pipeline"
   ]
  },
  {
   "cell_type": "markdown",
   "metadata": {},
   "source": [
    "# Section 1: Data Summary\n",
    "\n",
    "### In this section we download the dataset and describe its key properties including size, key variables, and target variable\n",
    "\n",
    "* First, we use the `astroquery` package to access data from the Sloan Digital Sky Survey. We then construct a database of 1000 astrophysical objects for which photometric data and spectroscopic redshifts are available.\n",
    "* We restrict our attention to galaxies (ignoring other classes of astrophysical objects, e.g., stars, quasars) and focus only on the low-redshift (z < 0.5) regime, for which observational data is most reliable.\n",
    "* The resulting Pandas dataframe has the following columns:\n",
    "    * 'ObjectID': Unique identifier for each object.\n",
    "    * 'u', 'g', 'r', 'i', 'z': Extinction corrected apparent magnitudes (brightness) in each of 5 photometric bands described below.\n",
    "    * 'Redshift': Spectroscopic redshift. This is the target variable which we aim to predict.\n",
    "* The 5 photometric bands are described in the table below:\n",
    "  \n",
    "| Band  | Wavelength Range | Color                 |\n",
    "| ----- | ---------------- | --------------------- |\n",
    "| **u** | \\~300–400 nm     | Ultraviolet (near-UV) |\n",
    "| **g** | \\~400–550 nm     | Blue-green            |\n",
    "| **r** | \\~550–700 nm     | Red                   |\n",
    "| **i** | \\~700–850 nm     | Near-infrared         |\n",
    "| **z** | \\~850–1000 nm    | Deeper near-infrared  |\n",
    "* Note that the SDSS SkyServer does not store objects in a random order. Therefore, if we simply use, for example \"SELECT TOP 1000\", we will obtain a sample for which the maximum reshift will be very small (0.000785). Unfortunately, the SDSS SkyServer SQL does not support TABLESAMPLE, and as the database is very large, if we add ORDERBY to our SQL query, the request returns a timeout error. Therefore, in order to get a representative sample which spans our desired redshift range, we have to introduce a loop which traverses the entire range, as shown below.\n"
   ]
  },
  {
   "cell_type": "code",
   "execution_count": 84,
   "metadata": {},
   "outputs": [
    {
     "name": "stderr",
     "output_type": "stream",
     "text": [
      "100%|████████████████████████████████████████████████████████████████████████████████████████████████████████████████████████████████████████████████████████████████████████████████████████████████████| 1000/1000 [00:02<00:00, 459.70it/s]\n"
     ]
    },
    {
     "data": {
      "text/html": [
       "<div>\n",
       "<style scoped>\n",
       "    .dataframe tbody tr th:only-of-type {\n",
       "        vertical-align: middle;\n",
       "    }\n",
       "\n",
       "    .dataframe tbody tr th {\n",
       "        vertical-align: top;\n",
       "    }\n",
       "\n",
       "    .dataframe thead th {\n",
       "        text-align: right;\n",
       "    }\n",
       "</style>\n",
       "<table border=\"1\" class=\"dataframe\">\n",
       "  <thead>\n",
       "    <tr style=\"text-align: right;\">\n",
       "      <th></th>\n",
       "      <th>ObjectID</th>\n",
       "      <th>u</th>\n",
       "      <th>g</th>\n",
       "      <th>r</th>\n",
       "      <th>i</th>\n",
       "      <th>z</th>\n",
       "      <th>Redshift</th>\n",
       "      <th>ObjectType</th>\n",
       "    </tr>\n",
       "  </thead>\n",
       "  <tbody>\n",
       "    <tr>\n",
       "      <th>0</th>\n",
       "      <td>1237662475310793166</td>\n",
       "      <td>17.45144</td>\n",
       "      <td>16.45380</td>\n",
       "      <td>16.24350</td>\n",
       "      <td>16.19313</td>\n",
       "      <td>16.06108</td>\n",
       "      <td>0.010000</td>\n",
       "      <td>GALAXY</td>\n",
       "    </tr>\n",
       "    <tr>\n",
       "      <th>1</th>\n",
       "      <td>1237661068171673641</td>\n",
       "      <td>15.24390</td>\n",
       "      <td>13.47456</td>\n",
       "      <td>12.65548</td>\n",
       "      <td>12.31465</td>\n",
       "      <td>11.98977</td>\n",
       "      <td>0.010490</td>\n",
       "      <td>GALAXY</td>\n",
       "    </tr>\n",
       "    <tr>\n",
       "      <th>2</th>\n",
       "      <td>1237668623008727174</td>\n",
       "      <td>16.22319</td>\n",
       "      <td>14.54854</td>\n",
       "      <td>13.84553</td>\n",
       "      <td>13.54542</td>\n",
       "      <td>13.23714</td>\n",
       "      <td>0.010981</td>\n",
       "      <td>GALAXY</td>\n",
       "    </tr>\n",
       "    <tr>\n",
       "      <th>3</th>\n",
       "      <td>1237680097552760925</td>\n",
       "      <td>21.88000</td>\n",
       "      <td>21.65158</td>\n",
       "      <td>21.60081</td>\n",
       "      <td>21.30265</td>\n",
       "      <td>21.26915</td>\n",
       "      <td>0.011471</td>\n",
       "      <td>GALAXY</td>\n",
       "    </tr>\n",
       "    <tr>\n",
       "      <th>4</th>\n",
       "      <td>1237667550885773419</td>\n",
       "      <td>18.72132</td>\n",
       "      <td>17.69658</td>\n",
       "      <td>17.34195</td>\n",
       "      <td>17.22708</td>\n",
       "      <td>16.98236</td>\n",
       "      <td>0.011963</td>\n",
       "      <td>GALAXY</td>\n",
       "    </tr>\n",
       "  </tbody>\n",
       "</table>\n",
       "</div>"
      ],
      "text/plain": [
       "              ObjectID         u         g         r         i         z  \\\n",
       "0  1237662475310793166  17.45144  16.45380  16.24350  16.19313  16.06108   \n",
       "1  1237661068171673641  15.24390  13.47456  12.65548  12.31465  11.98977   \n",
       "2  1237668623008727174  16.22319  14.54854  13.84553  13.54542  13.23714   \n",
       "3  1237680097552760925  21.88000  21.65158  21.60081  21.30265  21.26915   \n",
       "4  1237667550885773419  18.72132  17.69658  17.34195  17.22708  16.98236   \n",
       "\n",
       "   Redshift ObjectType  \n",
       "0  0.010000     GALAXY  \n",
       "1  0.010490     GALAXY  \n",
       "2  0.010981     GALAXY  \n",
       "3  0.011471     GALAXY  \n",
       "4  0.011963     GALAXY  "
      ]
     },
     "execution_count": 84,
     "metadata": {},
     "output_type": "execute_result"
    }
   ],
   "source": [
    "# create 1000 equal intervals between 0.01 and 0.5\n",
    "intervals = []\n",
    "lspace = np.linspace(0.01, 0.5, 1001)\n",
    "for i in range(1000):\n",
    "    intervals.append([lspace[i], lspace[i+1]])\n",
    "\n",
    "# initialise empty pandas dataframe\n",
    "astro_data = pd.DataFrame()\n",
    "\n",
    "# Loop through redshift intervals and obtain a representative sample (this may take some time)\n",
    "for i in tqdm(range(1000)):\n",
    "    \n",
    "    # Define SQL query\n",
    "    query = f\"\"\"\n",
    "    SELECT TOP 1\n",
    "      p.objid AS ObjectID,\n",
    "      p.dered_u AS u, \n",
    "      p.dered_g AS g, \n",
    "      p.dered_r AS r, \n",
    "      p.dered_i AS i, \n",
    "      p.dered_z AS z,\n",
    "      s.z AS Redshift,\n",
    "      s.class AS ObjectType\n",
    "    FROM PhotoObj AS p\n",
    "    JOIN SpecObj AS s ON s.bestobjid = p.objid\n",
    "    WHERE\n",
    "      s.zWarning = 0 AND\n",
    "      s.z BETWEEN {intervals[i][0]} AND {intervals[i][1]} AND\n",
    "      s.class = 'GALAXY'\n",
    "    \"\"\"\n",
    "    \n",
    "    # Send SQL query to SDSS server and return result\n",
    "    result = SDSS.query_sql(query)\n",
    "    \n",
    "    # Convert result to pandas DataFrame and concatenate with existing DataFrame\n",
    "    astro_data = pd.concat([astro_data, result.to_pandas()], ignore_index=True)\n",
    "\n",
    "# Preview the data\n",
    "astro_data.head()"
   ]
  },
  {
   "cell_type": "markdown",
   "metadata": {},
   "source": [
    "Having constructed the dataframe, we now add several features to it which astrophysicists know to be valuable predictors of spectroscopic redshift. In particular, we compute the following 'colours':\n",
    "\n",
    "* u - g\n",
    "* g - r\n",
    "* r - i\n",
    "* i - z\n",
    "* u - r\n",
    "* g - i\n",
    "* g - z\n",
    "* r - z\n",
    "\n",
    "These 'colours' (i.e. differences between magnitudes) contain information about the shape of the spectrum of the galaxy. For example, g − r helps distinguish red vs blue galaxies. It is important to include these features as redshift prediction is known to depend more on relative brightness between bands than absolute magnitudes alone. \n",
    "\n"
   ]
  },
  {
   "cell_type": "code",
   "execution_count": 85,
   "metadata": {},
   "outputs": [
    {
     "data": {
      "text/html": [
       "<div>\n",
       "<style scoped>\n",
       "    .dataframe tbody tr th:only-of-type {\n",
       "        vertical-align: middle;\n",
       "    }\n",
       "\n",
       "    .dataframe tbody tr th {\n",
       "        vertical-align: top;\n",
       "    }\n",
       "\n",
       "    .dataframe thead th {\n",
       "        text-align: right;\n",
       "    }\n",
       "</style>\n",
       "<table border=\"1\" class=\"dataframe\">\n",
       "  <thead>\n",
       "    <tr style=\"text-align: right;\">\n",
       "      <th></th>\n",
       "      <th>ObjectID</th>\n",
       "      <th>u</th>\n",
       "      <th>g</th>\n",
       "      <th>r</th>\n",
       "      <th>i</th>\n",
       "      <th>z</th>\n",
       "      <th>Redshift</th>\n",
       "      <th>ObjectType</th>\n",
       "      <th>u-g</th>\n",
       "      <th>g-r</th>\n",
       "      <th>r-i</th>\n",
       "      <th>i-z</th>\n",
       "      <th>u-r</th>\n",
       "      <th>g-i</th>\n",
       "      <th>g-z</th>\n",
       "      <th>r-z</th>\n",
       "    </tr>\n",
       "  </thead>\n",
       "  <tbody>\n",
       "    <tr>\n",
       "      <th>0</th>\n",
       "      <td>1237662475310793166</td>\n",
       "      <td>17.45144</td>\n",
       "      <td>16.45380</td>\n",
       "      <td>16.24350</td>\n",
       "      <td>16.19313</td>\n",
       "      <td>16.06108</td>\n",
       "      <td>0.010000</td>\n",
       "      <td>GALAXY</td>\n",
       "      <td>0.99764</td>\n",
       "      <td>0.21030</td>\n",
       "      <td>0.05037</td>\n",
       "      <td>0.13205</td>\n",
       "      <td>1.20794</td>\n",
       "      <td>0.26067</td>\n",
       "      <td>0.39272</td>\n",
       "      <td>0.18242</td>\n",
       "    </tr>\n",
       "    <tr>\n",
       "      <th>1</th>\n",
       "      <td>1237661068171673641</td>\n",
       "      <td>15.24390</td>\n",
       "      <td>13.47456</td>\n",
       "      <td>12.65548</td>\n",
       "      <td>12.31465</td>\n",
       "      <td>11.98977</td>\n",
       "      <td>0.010490</td>\n",
       "      <td>GALAXY</td>\n",
       "      <td>1.76934</td>\n",
       "      <td>0.81908</td>\n",
       "      <td>0.34083</td>\n",
       "      <td>0.32488</td>\n",
       "      <td>2.58842</td>\n",
       "      <td>1.15991</td>\n",
       "      <td>1.48479</td>\n",
       "      <td>0.66571</td>\n",
       "    </tr>\n",
       "    <tr>\n",
       "      <th>2</th>\n",
       "      <td>1237668623008727174</td>\n",
       "      <td>16.22319</td>\n",
       "      <td>14.54854</td>\n",
       "      <td>13.84553</td>\n",
       "      <td>13.54542</td>\n",
       "      <td>13.23714</td>\n",
       "      <td>0.010981</td>\n",
       "      <td>GALAXY</td>\n",
       "      <td>1.67465</td>\n",
       "      <td>0.70301</td>\n",
       "      <td>0.30011</td>\n",
       "      <td>0.30828</td>\n",
       "      <td>2.37766</td>\n",
       "      <td>1.00312</td>\n",
       "      <td>1.31140</td>\n",
       "      <td>0.60839</td>\n",
       "    </tr>\n",
       "    <tr>\n",
       "      <th>3</th>\n",
       "      <td>1237680097552760925</td>\n",
       "      <td>21.88000</td>\n",
       "      <td>21.65158</td>\n",
       "      <td>21.60081</td>\n",
       "      <td>21.30265</td>\n",
       "      <td>21.26915</td>\n",
       "      <td>0.011471</td>\n",
       "      <td>GALAXY</td>\n",
       "      <td>0.22842</td>\n",
       "      <td>0.05077</td>\n",
       "      <td>0.29816</td>\n",
       "      <td>0.03350</td>\n",
       "      <td>0.27919</td>\n",
       "      <td>0.34893</td>\n",
       "      <td>0.38243</td>\n",
       "      <td>0.33166</td>\n",
       "    </tr>\n",
       "    <tr>\n",
       "      <th>4</th>\n",
       "      <td>1237667550885773419</td>\n",
       "      <td>18.72132</td>\n",
       "      <td>17.69658</td>\n",
       "      <td>17.34195</td>\n",
       "      <td>17.22708</td>\n",
       "      <td>16.98236</td>\n",
       "      <td>0.011963</td>\n",
       "      <td>GALAXY</td>\n",
       "      <td>1.02474</td>\n",
       "      <td>0.35463</td>\n",
       "      <td>0.11487</td>\n",
       "      <td>0.24472</td>\n",
       "      <td>1.37937</td>\n",
       "      <td>0.46950</td>\n",
       "      <td>0.71422</td>\n",
       "      <td>0.35959</td>\n",
       "    </tr>\n",
       "  </tbody>\n",
       "</table>\n",
       "</div>"
      ],
      "text/plain": [
       "              ObjectID         u         g         r         i         z  \\\n",
       "0  1237662475310793166  17.45144  16.45380  16.24350  16.19313  16.06108   \n",
       "1  1237661068171673641  15.24390  13.47456  12.65548  12.31465  11.98977   \n",
       "2  1237668623008727174  16.22319  14.54854  13.84553  13.54542  13.23714   \n",
       "3  1237680097552760925  21.88000  21.65158  21.60081  21.30265  21.26915   \n",
       "4  1237667550885773419  18.72132  17.69658  17.34195  17.22708  16.98236   \n",
       "\n",
       "   Redshift ObjectType      u-g      g-r      r-i      i-z      u-r      g-i  \\\n",
       "0  0.010000     GALAXY  0.99764  0.21030  0.05037  0.13205  1.20794  0.26067   \n",
       "1  0.010490     GALAXY  1.76934  0.81908  0.34083  0.32488  2.58842  1.15991   \n",
       "2  0.010981     GALAXY  1.67465  0.70301  0.30011  0.30828  2.37766  1.00312   \n",
       "3  0.011471     GALAXY  0.22842  0.05077  0.29816  0.03350  0.27919  0.34893   \n",
       "4  0.011963     GALAXY  1.02474  0.35463  0.11487  0.24472  1.37937  0.46950   \n",
       "\n",
       "       g-z      r-z  \n",
       "0  0.39272  0.18242  \n",
       "1  1.48479  0.66571  \n",
       "2  1.31140  0.60839  \n",
       "3  0.38243  0.33166  \n",
       "4  0.71422  0.35959  "
      ]
     },
     "execution_count": 85,
     "metadata": {},
     "output_type": "execute_result"
    }
   ],
   "source": [
    "# compute colours and add to dataframe\n",
    "astro_data['u-g'] = astro_data['u'] - astro_data['g']\n",
    "astro_data['g-r'] = astro_data['g'] - astro_data['r']\n",
    "astro_data['r-i'] = astro_data['r'] - astro_data['i']\n",
    "astro_data['i-z'] = astro_data['i'] - astro_data['z']\n",
    "astro_data['u-r'] = astro_data['u'] - astro_data['r']\n",
    "astro_data['g-i'] = astro_data['g'] - astro_data['i']\n",
    "astro_data['g-z'] = astro_data['g'] - astro_data['z']\n",
    "astro_data['r-z'] = astro_data['r'] - astro_data['z']\n",
    "\n",
    "\n",
    "# preview the extended dataframe\n",
    "astro_data.head()"
   ]
  },
  {
   "cell_type": "markdown",
   "metadata": {},
   "source": [
    "We now check for duplicate entries using the `ObjectID' column. Once we are satisfied that all data are unique, we drop this column as it has no value for prediction. "
   ]
  },
  {
   "cell_type": "code",
   "execution_count": 86,
   "metadata": {},
   "outputs": [
    {
     "data": {
      "text/plain": [
       "True"
      ]
     },
     "execution_count": 86,
     "metadata": {},
     "output_type": "execute_result"
    }
   ],
   "source": [
    "# Verify no duplicates using ObjectID\n",
    "astro_data['ObjectID'].duplicated().sum() == 0"
   ]
  },
  {
   "cell_type": "code",
   "execution_count": 87,
   "metadata": {},
   "outputs": [],
   "source": [
    "# Drop the ObjectID and ObjectType columns\n",
    "astro_data.drop(columns=['ObjectID', 'ObjectType'], inplace=True)"
   ]
  },
  {
   "cell_type": "code",
   "execution_count": 88,
   "metadata": {},
   "outputs": [
    {
     "name": "stdout",
     "output_type": "stream",
     "text": [
      "<class 'pandas.core.frame.DataFrame'>\n",
      "RangeIndex: 1000 entries, 0 to 999\n",
      "Data columns (total 14 columns):\n",
      " #   Column    Non-Null Count  Dtype  \n",
      "---  ------    --------------  -----  \n",
      " 0   u         1000 non-null   float64\n",
      " 1   g         1000 non-null   float64\n",
      " 2   r         1000 non-null   float64\n",
      " 3   i         1000 non-null   float64\n",
      " 4   z         1000 non-null   float64\n",
      " 5   Redshift  1000 non-null   float64\n",
      " 6   u-g       1000 non-null   float64\n",
      " 7   g-r       1000 non-null   float64\n",
      " 8   r-i       1000 non-null   float64\n",
      " 9   i-z       1000 non-null   float64\n",
      " 10  u-r       1000 non-null   float64\n",
      " 11  g-i       1000 non-null   float64\n",
      " 12  g-z       1000 non-null   float64\n",
      " 13  r-z       1000 non-null   float64\n",
      "dtypes: float64(14)\n",
      "memory usage: 109.5 KB\n"
     ]
    }
   ],
   "source": [
    "# View size and details for resulting dataframe\n",
    "astro_data.info()"
   ]
  },
  {
   "cell_type": "markdown",
   "metadata": {},
   "source": [
    "As we can see in the above summary, our dataframe contains 1000 examples, each with 13 features and one target variable ('Redshift'). There are no null entries in the dataframe, and all columnns are of type 'float64'."
   ]
  },
  {
   "cell_type": "markdown",
   "metadata": {},
   "source": [
    "# Section 2: Objective of the Analysis\n",
    "\n",
    "In this section I state what the analysis aims to achieve, contextualising these objectives with some preliminary exploratory data analysis\n",
    "\n",
    "* Our primary objective is to build a regression model which uses photometric data alone to estimate the redshift of SDSS objects. Our focus here is galaxies, though similar techniques may be employed for other object types. \n",
    "  \n",
    "* We start by obtaining broad statistical information using the `describe` method. We see that we have well-distributed sample, with redshifts spanning the full range of 0.01 to 0.5."
   ]
  },
  {
   "cell_type": "code",
   "execution_count": 89,
   "metadata": {},
   "outputs": [
    {
     "data": {
      "text/html": [
       "<div>\n",
       "<style scoped>\n",
       "    .dataframe tbody tr th:only-of-type {\n",
       "        vertical-align: middle;\n",
       "    }\n",
       "\n",
       "    .dataframe tbody tr th {\n",
       "        vertical-align: top;\n",
       "    }\n",
       "\n",
       "    .dataframe thead th {\n",
       "        text-align: right;\n",
       "    }\n",
       "</style>\n",
       "<table border=\"1\" class=\"dataframe\">\n",
       "  <thead>\n",
       "    <tr style=\"text-align: right;\">\n",
       "      <th></th>\n",
       "      <th>u</th>\n",
       "      <th>g</th>\n",
       "      <th>r</th>\n",
       "      <th>i</th>\n",
       "      <th>z</th>\n",
       "      <th>Redshift</th>\n",
       "      <th>u-g</th>\n",
       "      <th>g-r</th>\n",
       "      <th>r-i</th>\n",
       "      <th>i-z</th>\n",
       "      <th>u-r</th>\n",
       "      <th>g-i</th>\n",
       "      <th>g-z</th>\n",
       "      <th>r-z</th>\n",
       "    </tr>\n",
       "  </thead>\n",
       "  <tbody>\n",
       "    <tr>\n",
       "      <th>count</th>\n",
       "      <td>1000.000000</td>\n",
       "      <td>1000.000000</td>\n",
       "      <td>1000.000000</td>\n",
       "      <td>1000.000000</td>\n",
       "      <td>1000.000000</td>\n",
       "      <td>1000.000000</td>\n",
       "      <td>1000.000000</td>\n",
       "      <td>1000.000000</td>\n",
       "      <td>1000.000000</td>\n",
       "      <td>1000.000000</td>\n",
       "      <td>1000.000000</td>\n",
       "      <td>1000.000000</td>\n",
       "      <td>1000.000000</td>\n",
       "      <td>1000.000000</td>\n",
       "    </tr>\n",
       "    <tr>\n",
       "      <th>mean</th>\n",
       "      <td>21.566645</td>\n",
       "      <td>19.618450</td>\n",
       "      <td>18.359069</td>\n",
       "      <td>17.824120</td>\n",
       "      <td>17.501353</td>\n",
       "      <td>0.254755</td>\n",
       "      <td>1.948194</td>\n",
       "      <td>1.259382</td>\n",
       "      <td>0.534948</td>\n",
       "      <td>0.322768</td>\n",
       "      <td>3.207576</td>\n",
       "      <td>1.794330</td>\n",
       "      <td>2.117098</td>\n",
       "      <td>0.857716</td>\n",
       "    </tr>\n",
       "    <tr>\n",
       "      <th>std</th>\n",
       "      <td>2.180254</td>\n",
       "      <td>1.766986</td>\n",
       "      <td>1.487524</td>\n",
       "      <td>1.396417</td>\n",
       "      <td>1.411499</td>\n",
       "      <td>0.141522</td>\n",
       "      <td>1.024428</td>\n",
       "      <td>0.527141</td>\n",
       "      <td>0.220392</td>\n",
       "      <td>0.218693</td>\n",
       "      <td>1.300849</td>\n",
       "      <td>0.679791</td>\n",
       "      <td>0.777283</td>\n",
       "      <td>0.310203</td>\n",
       "    </tr>\n",
       "    <tr>\n",
       "      <th>min</th>\n",
       "      <td>14.424260</td>\n",
       "      <td>12.582640</td>\n",
       "      <td>11.699060</td>\n",
       "      <td>11.264950</td>\n",
       "      <td>10.856910</td>\n",
       "      <td>0.010000</td>\n",
       "      <td>-3.195620</td>\n",
       "      <td>-1.780910</td>\n",
       "      <td>-0.887610</td>\n",
       "      <td>-2.311810</td>\n",
       "      <td>-1.348080</td>\n",
       "      <td>-0.678020</td>\n",
       "      <td>-1.425720</td>\n",
       "      <td>-1.488470</td>\n",
       "    </tr>\n",
       "    <tr>\n",
       "      <th>25%</th>\n",
       "      <td>19.943945</td>\n",
       "      <td>18.267888</td>\n",
       "      <td>17.368895</td>\n",
       "      <td>16.971402</td>\n",
       "      <td>16.671328</td>\n",
       "      <td>0.132378</td>\n",
       "      <td>1.328895</td>\n",
       "      <td>0.866592</td>\n",
       "      <td>0.414358</td>\n",
       "      <td>0.287302</td>\n",
       "      <td>2.365410</td>\n",
       "      <td>1.286342</td>\n",
       "      <td>1.586765</td>\n",
       "      <td>0.720290</td>\n",
       "    </tr>\n",
       "    <tr>\n",
       "      <th>50%</th>\n",
       "      <td>21.603290</td>\n",
       "      <td>19.782735</td>\n",
       "      <td>18.348850</td>\n",
       "      <td>17.772170</td>\n",
       "      <td>17.439580</td>\n",
       "      <td>0.254756</td>\n",
       "      <td>1.828590</td>\n",
       "      <td>1.344620</td>\n",
       "      <td>0.528295</td>\n",
       "      <td>0.346355</td>\n",
       "      <td>3.056430</td>\n",
       "      <td>1.915620</td>\n",
       "      <td>2.259830</td>\n",
       "      <td>0.873135</td>\n",
       "    </tr>\n",
       "    <tr>\n",
       "      <th>75%</th>\n",
       "      <td>23.088808</td>\n",
       "      <td>21.129440</td>\n",
       "      <td>19.446140</td>\n",
       "      <td>18.773963</td>\n",
       "      <td>18.395065</td>\n",
       "      <td>0.377133</td>\n",
       "      <td>2.260730</td>\n",
       "      <td>1.676805</td>\n",
       "      <td>0.655197</td>\n",
       "      <td>0.393765</td>\n",
       "      <td>3.805123</td>\n",
       "      <td>2.336515</td>\n",
       "      <td>2.732263</td>\n",
       "      <td>1.043005</td>\n",
       "    </tr>\n",
       "    <tr>\n",
       "      <th>max</th>\n",
       "      <td>26.964580</td>\n",
       "      <td>24.344770</td>\n",
       "      <td>24.218160</td>\n",
       "      <td>22.407250</td>\n",
       "      <td>23.795340</td>\n",
       "      <td>0.499510</td>\n",
       "      <td>8.563180</td>\n",
       "      <td>5.858280</td>\n",
       "      <td>2.734630</td>\n",
       "      <td>1.765500</td>\n",
       "      <td>9.258990</td>\n",
       "      <td>6.181360</td>\n",
       "      <td>6.438780</td>\n",
       "      <td>1.833480</td>\n",
       "    </tr>\n",
       "  </tbody>\n",
       "</table>\n",
       "</div>"
      ],
      "text/plain": [
       "                 u            g            r            i            z  \\\n",
       "count  1000.000000  1000.000000  1000.000000  1000.000000  1000.000000   \n",
       "mean     21.566645    19.618450    18.359069    17.824120    17.501353   \n",
       "std       2.180254     1.766986     1.487524     1.396417     1.411499   \n",
       "min      14.424260    12.582640    11.699060    11.264950    10.856910   \n",
       "25%      19.943945    18.267888    17.368895    16.971402    16.671328   \n",
       "50%      21.603290    19.782735    18.348850    17.772170    17.439580   \n",
       "75%      23.088808    21.129440    19.446140    18.773963    18.395065   \n",
       "max      26.964580    24.344770    24.218160    22.407250    23.795340   \n",
       "\n",
       "          Redshift          u-g          g-r          r-i          i-z  \\\n",
       "count  1000.000000  1000.000000  1000.000000  1000.000000  1000.000000   \n",
       "mean      0.254755     1.948194     1.259382     0.534948     0.322768   \n",
       "std       0.141522     1.024428     0.527141     0.220392     0.218693   \n",
       "min       0.010000    -3.195620    -1.780910    -0.887610    -2.311810   \n",
       "25%       0.132378     1.328895     0.866592     0.414358     0.287302   \n",
       "50%       0.254756     1.828590     1.344620     0.528295     0.346355   \n",
       "75%       0.377133     2.260730     1.676805     0.655197     0.393765   \n",
       "max       0.499510     8.563180     5.858280     2.734630     1.765500   \n",
       "\n",
       "               u-r          g-i          g-z          r-z  \n",
       "count  1000.000000  1000.000000  1000.000000  1000.000000  \n",
       "mean      3.207576     1.794330     2.117098     0.857716  \n",
       "std       1.300849     0.679791     0.777283     0.310203  \n",
       "min      -1.348080    -0.678020    -1.425720    -1.488470  \n",
       "25%       2.365410     1.286342     1.586765     0.720290  \n",
       "50%       3.056430     1.915620     2.259830     0.873135  \n",
       "75%       3.805123     2.336515     2.732263     1.043005  \n",
       "max       9.258990     6.181360     6.438780     1.833480  "
      ]
     },
     "execution_count": 89,
     "metadata": {},
     "output_type": "execute_result"
    }
   ],
   "source": [
    "# Examine the data distributions for each column\n",
    "astro_data.describe()"
   ]
  },
  {
   "cell_type": "markdown",
   "metadata": {},
   "source": [
    "We note that while columns 'u', 'g', 'r', 'i', 'z', have similar scales, the colour columns 'u-g', etc. are smaller, and this indicates that standard scaling of all feature columns may be necessary. Next, we examine the correlations between each of these features and the target variable."
   ]
  },
  {
   "cell_type": "code",
   "execution_count": 90,
   "metadata": {},
   "outputs": [
    {
     "name": "stdout",
     "output_type": "stream",
     "text": [
      "g      0.869065\n",
      "u      0.833988\n",
      "g-i    0.796838\n",
      "g-z    0.774294\n",
      "r      0.768880\n",
      "g-r    0.743442\n",
      "i      0.711781\n",
      "r-i    0.679626\n",
      "r-z    0.676805\n",
      "z      0.661552\n",
      "u-r    0.518568\n",
      "u-g    0.275939\n",
      "i-z    0.275101\n",
      "Name: Redshift, dtype: float64\n"
     ]
    }
   ],
   "source": [
    "# Compute Pearson correlation coefficient between each feature and the target  \n",
    "correlations = astro_data.corr()['Redshift'].drop('Redshift').sort_values(ascending=False)\n",
    "print(correlations)"
   ]
  },
  {
   "cell_type": "markdown",
   "metadata": {},
   "source": [
    "It is clear from the above results that there are strong correlations between a number of features and the target variable. This suggests that it will be possible to use machine learning to make use of these correlations and produce good predictions of redshift using photometric magnitudes alone. This is our primary objective. "
   ]
  },
  {
   "cell_type": "markdown",
   "metadata": {},
   "source": [
    "# Section 3: Model Comparison\n",
    "\n",
    "* In this section I compare variations of linear regression and select the best one. Variations include linear regression without regularisation, Ridge regression, Lasso regression, and ElasticNet regression.\n",
    "* It is known that there are complex interependencies between Redshift, color, and brightness. In order to capture potentially nonlinear relationships, it may be useful to add polynomial features to our dataframe. We do this using `PolynomialFeatures` from ScikitLearn. While this introduces extra complexity to the model, we will use regularisation techniques to ensure that this does not lead to overfitting. "
   ]
  },
  {
   "cell_type": "code",
   "execution_count": 91,
   "metadata": {},
   "outputs": [],
   "source": [
    "# Split the data into features and target\n",
    "X = astro_data.drop(columns=['Redshift'])\n",
    "y = astro_data['Redshift'].copy()"
   ]
  },
  {
   "cell_type": "code",
   "execution_count": 92,
   "metadata": {},
   "outputs": [],
   "source": [
    "# Add polynomial features\n",
    "pf = PolynomialFeatures(degree=2, include_bias=False)\n",
    "X_pf = pf.fit_transform(X)\n",
    "\n",
    "# Get the new feature names\n",
    "feature_names = pf.get_feature_names_out(X.columns)\n",
    "\n",
    "# Convert back to DataFrame\n",
    "X_pf = pd.DataFrame(X_pf, columns=feature_names, index=X.index)\n",
    "\n",
    "# Comment above and uncomment below to get rid of polynomial features\n",
    "# X_pf = X.copy()"
   ]
  },
  {
   "cell_type": "markdown",
   "metadata": {},
   "source": [
    "### Linear regression without regularisation"
   ]
  },
  {
   "cell_type": "code",
   "execution_count": 93,
   "metadata": {},
   "outputs": [
    {
     "name": "stdout",
     "output_type": "stream",
     "text": [
      "R2 scores across k-folds: [0.8758332782640372, 0.8833902927941031, 0.8523453884260231, 0.5694882093794433, 0.8386761285499303]\n",
      "mean R2 score for linear regression without regularisation: 0.8039466594827074\n"
     ]
    }
   ],
   "source": [
    "# Use 5-fold cross validation to obtain best estimate of performance. \n",
    "# Ensure shuffle=True as data is ordered by redshift\n",
    "kf = KFold(n_splits=5, shuffle=True, random_state=42)\n",
    "R_2 = []\n",
    "\n",
    "# Create a pipeline including a scaling step\n",
    "pipe = Pipeline([\n",
    "    ('ss', StandardScaler()),\n",
    "    ('lr', LinearRegression())\n",
    "])\n",
    "\n",
    "for k, (train_indices, test_indices) in enumerate(kf.split(X_pf,y)):\n",
    "    X_pf_train, X_pf_test = X_pf.iloc[train_indices], X_pf.iloc[test_indices]\n",
    "    y_train, y_test = y[train_indices], y[test_indices]\n",
    "    pipe.fit(X_pf_train,y_train)\n",
    "    R_2.append(pipe.score(X_pf_test, y_test))\n",
    "\n",
    "print('R2 scores across k-folds:', R_2)\n",
    "import numpy as np\n",
    "print('mean R2 score for linear regression without regularisation:', np.array(R_2).mean())"
   ]
  },
  {
   "cell_type": "markdown",
   "metadata": {},
   "source": [
    "As we can see from the above, the simplest linear regression model without regularisation performs reasonably well, with an r2 score above 0.8. We may be able to improve upon this result further using regularisation techniques."
   ]
  },
  {
   "cell_type": "markdown",
   "metadata": {},
   "source": [
    "### Linear regression with Ridge regularisation"
   ]
  },
  {
   "cell_type": "code",
   "execution_count": 94,
   "metadata": {},
   "outputs": [
    {
     "name": "stdout",
     "output_type": "stream",
     "text": [
      "R2 scores across k-folds (Ridge): [0.8821068566965344, 0.8547925647441166, 0.8845845571856569, 0.7856595432423273, 0.8362140498218273]\n",
      "Optimal alphas across k-folds (ridge): [100.0, 500.0, 100.0, 500.0, 500.0]\n",
      "Mean R2 for Ridge: 0.8486715143380925\n"
     ]
    }
   ],
   "source": [
    "# Define the set of hyperparameters to search through\n",
    "alphas = [0.001, 0.01, 0.1, 1, 10, 100, 500, 1000, 10000]\n",
    "R_2_ridge = []\n",
    "best_alphas_ridge = []\n",
    "\n",
    "# Use 5-fold cross validation to obtain best estimate of performance on unseen data. \n",
    "for train_idx, test_idx in kf.split(X_pf, y):\n",
    "    X_train, X_test = X_pf.iloc[train_idx], X_pf.iloc[test_idx]\n",
    "    y_train, y_test = y[train_idx], y[test_idx]\n",
    "\n",
    "    # use internal cross-validation to select best hyperparameter each time \n",
    "    pipe = Pipeline([\n",
    "        ('ss', StandardScaler()),\n",
    "        ('ridge', RidgeCV(alphas=alphas, cv=5))\n",
    "    ])\n",
    "\n",
    "    pipe.fit(X_train, y_train)\n",
    "    R_2_ridge.append(pipe.score(X_test, y_test))\n",
    "    best_alphas_ridge.append(pipe.named_steps['ridge'].alpha_)\n",
    "\n",
    "print(\"R2 scores across k-folds (Ridge):\", R_2_ridge)\n",
    "print(\"Optimal alphas across k-folds (ridge):\", best_alphas_ridge)\n",
    "print(\"Mean R2 for Ridge:\", np.mean(R_2_ridge))\n"
   ]
  },
  {
   "cell_type": "markdown",
   "metadata": {},
   "source": [
    "We see that using ridge regression, we improve upon the performance of the unregularised linear regression model, with an average r2 score of approximately 0.849."
   ]
  },
  {
   "cell_type": "markdown",
   "metadata": {},
   "source": [
    "### Linear regression with Lasso regularisation"
   ]
  },
  {
   "cell_type": "code",
   "execution_count": 95,
   "metadata": {},
   "outputs": [
    {
     "name": "stdout",
     "output_type": "stream",
     "text": [
      "R2 scores across k-folds (Lasso): [0.8821657986798463, 0.8465342008789262, 0.8855249137497295, 0.818541765139373, 0.8324502013986211]\n",
      "Optimal alphas across k-folds (Lasso): [0.001, 0.001, 0.001, 0.001, 0.001]\n",
      "Mean R2 for Lasso: 0.8530433759692991\n"
     ]
    }
   ],
   "source": [
    "# Define the set of hyperparameters to search through\n",
    "alphas = [1e-4, 5e-4, 1e-3, 5e-3, 1e-2, 5e-2, 1e-1, 1]\n",
    "R_2_lasso = []\n",
    "best_alphas_lasso = []\n",
    "\n",
    "# Use 5-fold cross validation to obtain best estimate of performance on unseen data. \n",
    "for train_idx, test_idx in kf.split(X_pf, y):\n",
    "    X_train, X_test = X_pf.iloc[train_idx], X_pf.iloc[test_idx]\n",
    "    y_train, y_test = y[train_idx], y[test_idx]\n",
    "\n",
    "    # use internal cross-validation to select best hyperparameter each time \n",
    "    pipe = Pipeline([\n",
    "        ('ss', StandardScaler()),\n",
    "        ('lasso', LassoCV(alphas=alphas, cv=5, max_iter=500000))\n",
    "    ])\n",
    "\n",
    "    pipe.fit(X_train, y_train)\n",
    "    R_2_lasso.append(pipe.score(X_test, y_test))\n",
    "    best_alphas_lasso.append(pipe.named_steps['lasso'].alpha_)\n",
    "\n",
    "print(\"R2 scores across k-folds (Lasso):\", R_2_lasso)\n",
    "print(\"Optimal alphas across k-folds (Lasso):\", best_alphas_lasso)\n",
    "print(\"Mean R2 for Lasso:\", np.mean(R_2_lasso))"
   ]
  },
  {
   "cell_type": "markdown",
   "metadata": {},
   "source": [
    "We obtain yet further improvement upon ridge regression with Lasso regression, obtaining an average r2 score of 0.853. Because Lasso regression tends to zero-out a number of coefficients, we may use the remaining non-zero coefficients to determine the features most useful for predicting the redshift. We arrange these as a dataframe below:"
   ]
  },
  {
   "cell_type": "code",
   "execution_count": 96,
   "metadata": {},
   "outputs": [
    {
     "data": {
      "text/html": [
       "<div>\n",
       "<style scoped>\n",
       "    .dataframe tbody tr th:only-of-type {\n",
       "        vertical-align: middle;\n",
       "    }\n",
       "\n",
       "    .dataframe tbody tr th {\n",
       "        vertical-align: top;\n",
       "    }\n",
       "\n",
       "    .dataframe thead th {\n",
       "        text-align: right;\n",
       "    }\n",
       "</style>\n",
       "<table border=\"1\" class=\"dataframe\">\n",
       "  <thead>\n",
       "    <tr style=\"text-align: right;\">\n",
       "      <th></th>\n",
       "      <th>Feature</th>\n",
       "      <th>Weight</th>\n",
       "    </tr>\n",
       "  </thead>\n",
       "  <tbody>\n",
       "    <tr>\n",
       "      <th>61</th>\n",
       "      <td>z g-r</td>\n",
       "      <td>0.051662</td>\n",
       "    </tr>\n",
       "    <tr>\n",
       "      <th>1</th>\n",
       "      <td>g</td>\n",
       "      <td>0.048472</td>\n",
       "    </tr>\n",
       "    <tr>\n",
       "      <th>88</th>\n",
       "      <td>r-i r-z</td>\n",
       "      <td>0.020257</td>\n",
       "    </tr>\n",
       "    <tr>\n",
       "      <th>69</th>\n",
       "      <td>u-g g-r</td>\n",
       "      <td>0.017010</td>\n",
       "    </tr>\n",
       "    <tr>\n",
       "      <th>28</th>\n",
       "      <td>g i</td>\n",
       "      <td>0.013451</td>\n",
       "    </tr>\n",
       "    <tr>\n",
       "      <th>83</th>\n",
       "      <td>r-i^2</td>\n",
       "      <td>0.009815</td>\n",
       "    </tr>\n",
       "    <tr>\n",
       "      <th>86</th>\n",
       "      <td>r-i g-i</td>\n",
       "      <td>0.008589</td>\n",
       "    </tr>\n",
       "    <tr>\n",
       "      <th>103</th>\n",
       "      <td>r-z^2</td>\n",
       "      <td>0.007684</td>\n",
       "    </tr>\n",
       "    <tr>\n",
       "      <th>54</th>\n",
       "      <td>i i-z</td>\n",
       "      <td>0.003944</td>\n",
       "    </tr>\n",
       "    <tr>\n",
       "      <th>5</th>\n",
       "      <td>u-g</td>\n",
       "      <td>-0.009305</td>\n",
       "    </tr>\n",
       "    <tr>\n",
       "      <th>76</th>\n",
       "      <td>g-r^2</td>\n",
       "      <td>-0.023050</td>\n",
       "    </tr>\n",
       "  </tbody>\n",
       "</table>\n",
       "</div>"
      ],
      "text/plain": [
       "     Feature    Weight\n",
       "61     z g-r  0.051662\n",
       "1          g  0.048472\n",
       "88   r-i r-z  0.020257\n",
       "69   u-g g-r  0.017010\n",
       "28       g i  0.013451\n",
       "83     r-i^2  0.009815\n",
       "86   r-i g-i  0.008589\n",
       "103    r-z^2  0.007684\n",
       "54     i i-z  0.003944\n",
       "5        u-g -0.009305\n",
       "76     g-r^2 -0.023050"
      ]
     },
     "execution_count": 96,
     "metadata": {},
     "output_type": "execute_result"
    }
   ],
   "source": [
    "# Create table of most important features\n",
    "important_features = pd.DataFrame(zip(list(X_train.columns), list(pipe.named_steps['lasso'].coef_))).sort_values(by=1, ascending=False)\n",
    "important_features = important_features[important_features[1] != 0]\n",
    "important_features.rename(columns={0:'Feature', 1:'Weight'}, inplace=True)\n",
    "important_features"
   ]
  },
  {
   "cell_type": "markdown",
   "metadata": {},
   "source": [
    "We see that the most important features tend to be polynomial features, and that these polynomial features tend to be combinations involving the 'colour' features we engineered earlier. The individual UGRIZ magnitudes seem to be less important. This highlights the fact that there is a complex non-linear relationship between magnitudes, colours, and redshift, and it is therefore important to include composite features in our regression models. "
   ]
  },
  {
   "cell_type": "markdown",
   "metadata": {},
   "source": [
    "We may compare the performance of our model with existing studies that also seek to estimate redshifts from photometric data. The standard metric used to evaluate the accuracy of photometric redshift estimates is the normalised scatter:\n",
    "\n",
    "$$\n",
    "\\sigma_{\\Delta z / (1 + z)} = \\mathrm{std} \\left( \\frac{z_{\\text{phot}} - z_{\\text{spec}}}{1 + z_{\\text{spec}}} \\right)\n",
    "$$\n",
    "\n",
    "For example, The design goals for LSST scatter in photometric redshifts required $\\sigma_{\\Delta z / (1 + z)} < 0.05$, with a goal of 0.02 [1]. Meanwhile, Brammer, Dokkum, & Coppi report a scatter of 0.034 using the publicly available EAZY photometric redshift code [2]\n",
    "\n",
    "We compute the value of $\\sigma_{\\Delta z / (1 + z)}$ corresponding to our Lasso regression model below."
   ]
  },
  {
   "cell_type": "code",
   "execution_count": 97,
   "metadata": {},
   "outputs": [
    {
     "name": "stdout",
     "output_type": "stream",
     "text": [
      "normalised scatter: 0.04397562829202186\n"
     ]
    }
   ],
   "source": [
    "photo = pipe.predict(X_test)\n",
    "spec = y_test\n",
    "sigma = np.std((photo - spec)/(1+spec)) \n",
    "print('normalised scatter:', sigma)"
   ]
  },
  {
   "cell_type": "markdown",
   "metadata": {},
   "source": [
    "We see that our value of $\\sigma_{\\Delta z / (1 + z)}$ is similar to published values from previous studies, and falls within LSST design requirements, highlighting the value of this analysis."
   ]
  },
  {
   "cell_type": "markdown",
   "metadata": {},
   "source": [
    "### Linear regression with ElasticNet regularisation"
   ]
  },
  {
   "cell_type": "code",
   "execution_count": 98,
   "metadata": {},
   "outputs": [
    {
     "name": "stdout",
     "output_type": "stream",
     "text": [
      "R2 scores across k-folds (ElasticNet): [0.8819385084379647, 0.8519006009169254, 0.886367901629109, 0.7971315053856601, 0.8348724150042802]\n",
      "Optimal alphas across k-folds (ElasticNet): [0.001, 0.01291549665014884, 0.001, 0.01291549665014884, 0.01291549665014884]\n",
      "Optimal l1 ratio across k-folds (ElasticNet): [0.9, 0.1, 0.9, 0.1, 0.1]\n",
      "Mean R2 for ElasticNet: 0.850442186274788\n"
     ]
    }
   ],
   "source": [
    "# Define the set of hyperparameters to search through\n",
    "alphas = np.logspace(-3, 2, 10)\n",
    "l1s = [0.1, 0.3, 0.6, 0.9]\n",
    "\n",
    "R_2_eNet = []\n",
    "best_alphas_eNet = []\n",
    "best_l1s_eNet = []\n",
    "\n",
    "# Use 5-fold cross validation to obtain best estimate of performance on unseen data. \n",
    "for train_idx, test_idx in kf.split(X_pf, y):\n",
    "    X_train, X_test = X_pf.iloc[train_idx], X_pf.iloc[test_idx]\n",
    "    y_train, y_test = y[train_idx], y[test_idx]\n",
    "\n",
    "    # use internal cross-validation to select best hyperparameter each time \n",
    "    pipe = Pipeline([\n",
    "        ('ss', StandardScaler()),\n",
    "        ('elasticnet', ElasticNetCV(alphas=alphas, l1_ratio=l1s, cv=5, max_iter=500000))\n",
    "    ])\n",
    "\n",
    "    pipe.fit(X_train, y_train)\n",
    "    R_2_eNet.append(pipe.score(X_test, y_test))\n",
    "    best_alphas_eNet.append(pipe.named_steps['elasticnet'].alpha_)        \n",
    "    best_l1s_eNet.append(pipe.named_steps['elasticnet'].l1_ratio_)\n",
    "\n",
    "print(\"R2 scores across k-folds (ElasticNet):\", R_2_eNet)\n",
    "print(\"Optimal alphas across k-folds (ElasticNet):\", best_alphas_eNet)\n",
    "print(\"Optimal l1 ratio across k-folds (ElasticNet):\", best_l1s_eNet)\n",
    "print(\"Mean R2 for ElasticNet:\", np.mean(R_2_eNet))"
   ]
  },
  {
   "cell_type": "markdown",
   "metadata": {},
   "source": [
    "Given that both Ridge and Lasso regression had similar performance, it is unsurprising that ElasticNet sometimes prefers a very small l1 ratio and sometimes prefers a very large l1 ratio. Overall, ElasticNet is unable to provide improvement relative to Lasso regression, so we conclude that the best model to use here, with highest average R2 score, is Lasso. This has the added advantage of increased interpretability, with only 11 non-zero weights in the trained model. "
   ]
  },
  {
   "cell_type": "markdown",
   "metadata": {},
   "source": [
    "# Section 4: Key Findings\n",
    "\n",
    "In this section I present insights gained from the regression analysis and explain how these align with the objective.\n",
    "\n",
    "* The first key finding is that it is necessary to manually ensure that a representative sample is obtained from the SDSS data, with spectroscopic redshifts spanning the entire range 0.01 to 0.5. If care is not taken here, the spectroscopic redshifts in a sample of size 1000 will be clustered around very small values, and regression will be unable to provide better estimates than simply guessing the mean value for each example. This is because the data is noisy, and over very small redshift ranges, there is no significant correlation with photometric magnitudes. These correlations only become apparent over sufficiently large redshift ranges.\n",
    "* The second key finding is that all regression techniques tried here achieve reasonable performance on our dataset, with r2 scores averaged over cross validation folds consistently above 0.8. We find that adding regularisation improves performance, with Lasso regularisation achieving the best cross-validated average score of 0.85.\n",
    "* The third ley finding is that the engineered 'colour' features and the polynomial features tend to be most valuable for predicting redshift values. Indeed, when we use lasso regresssion, many of the weights are set to zero, and those which remain tend to be polynomial features. This demonstrates that complex non-linear relationships exist between the observed photometric magnitudes and the redshift, and highlights the utility of machine learning approaches in finding these relationships. \n",
    "* Finally we note that, using our Lasso regression model, we obtain a normalised scatter value of $\\sigma_{\\Delta z / (1 + z)} = 0.044$. This is similar to published values from other studies, and demonstrates that the model we have built performs to an acceptable standard."
   ]
  },
  {
   "cell_type": "markdown",
   "metadata": {},
   "source": [
    "# Section 5: Next Steps\n",
    "\n",
    "* In this section we identify model flaws and outline future improvements\n",
    "* We note that there exists significant multicolinearity in the original features (see figure below). In future it may be useful to more carefully select features to minimise this effect.\n",
    "* We have used only a small subset of the available SDSS data. While our models perform well on moderately sized datasets, we may find stochastic methods such as SGDRegressor to be better suited if we were to analyse larger portions of the available data. \n",
    "* We have had to be very careful about sample selection in this analysis. In particular, if too small a redshift range is selected, the scatter in photometric data is too large to be able to find correlations with spectroscopic redshift. It may be worth studying in greater detail how the performance of these regression models depends on the data redshift range.\n",
    "* It may be useful to add more features, including categoricals such as galaxy shape, to improve predictions."
   ]
  },
  {
   "cell_type": "code",
   "execution_count": 105,
   "metadata": {},
   "outputs": [
    {
     "data": {
      "text/plain": [
       "Text(0.5, 1.02, 'Evidence of multicollinearity')"
      ]
     },
     "execution_count": 105,
     "metadata": {},
     "output_type": "execute_result"
    },
    {
     "data": {
      "image/png": "[encoded data removed]",
      "text/plain": [
       "<Figure size 750x750 with 12 Axes>"
      ]
     },
     "metadata": {},
     "output_type": "display_data"
    }
   ],
   "source": [
    "# Evidence of multicolinearity:\n",
    "g = sns.pairplot(astro_data[['u', 'g', 'r']])\n",
    "g.fig.suptitle('Evidence of multicollinearity', y=1.02)"
   ]
  },
  {
   "cell_type": "markdown",
   "metadata": {},
   "source": [
    "[1] Kahn, S. M. et al. URL: www.lsst.org/sites/default/files/docs/sciencebook/SB_3.pdf\n",
    "\n",
    "[2] Gabriel B. Brammer, Pieter G. van Dokkum, Paolo Coppi (2008), Astrophys.J. 686 (2008) 1503, e-Print: 0807.1533 "
   ]
  },
  {
   "cell_type": "markdown",
   "metadata": {},
   "source": [
    "Copyright @ IBM Corporation. All rights reserved.\n"
   ]
  }
 ],
 "metadata": {
  "kernelspec": {
   "display_name": "Python 3 (ipykernel)",
   "language": "python",
   "name": "python3"
  },
  "language_info": {
   "codemirror_mode": {
    "name": "ipython",
    "version": 3
   },
   "file_extension": ".py",
   "mimetype": "text/x-python",
   "name": "python",
   "nbconvert_exporter": "python",
   "pygments_lexer": "ipython3",
   "version": "3.9.23"
  },
  "prev_pub_hash": "9c22683913f8ca448d5398e8f650d831d71c0004162f9ca83962b547ed3dfda0"
 },
 "nbformat": 4,
 "nbformat_minor": 4
}
